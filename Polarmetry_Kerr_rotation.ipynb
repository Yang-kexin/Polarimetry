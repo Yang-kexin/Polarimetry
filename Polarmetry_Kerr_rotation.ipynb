{
 "cells": [
  {
   "cell_type": "code",
   "execution_count": 5,
   "metadata": {},
   "outputs": [],
   "source": [
    "from sympy import *\n",
    "import numpy as np"
   ]
  },
  {
   "cell_type": "code",
   "execution_count": 13,
   "metadata": {},
   "outputs": [],
   "source": [
    "r = Symbol('r', real = True)\n",
    "b1 = Symbol('b1', real = True)\n",
    "b2 = Symbol('b2', real = True)\n",
    "b = b1 + 1j*b2\n",
    "wt = Symbol('wt', real = True)"
   ]
  },
  {
   "cell_type": "markdown",
   "metadata": {},
   "source": [
    "The light after polarizer(45deg) and PEM"
   ]
  },
  {
   "cell_type": "code",
   "execution_count": 15,
   "metadata": {},
   "outputs": [],
   "source": [
    "In = Matrix([[exp(1j*pi/2*sin(wt))], [1]])"
   ]
  },
  {
   "cell_type": "code",
   "execution_count": 16,
   "metadata": {},
   "outputs": [],
   "source": [
    "Mat = Matrix([[r, b], [-b, r]])"
   ]
  },
  {
   "cell_type": "code",
   "execution_count": 18,
   "metadata": {},
   "outputs": [],
   "source": [
    "Out = Mat * In"
   ]
  },
  {
   "cell_type": "code",
   "execution_count": 63,
   "metadata": {},
   "outputs": [
    {
     "data": {
      "text/latex": [
       "$\\displaystyle \\left[\\begin{matrix}b_{1} + 1.0 i b_{2} + r e^{0.5 i \\pi \\sin{\\left(wt \\right)}}\\\\r + \\left(- b_{1} - 1.0 i b_{2}\\right) e^{0.5 i \\pi \\sin{\\left(wt \\right)}}\\end{matrix}\\right]$"
      ],
      "text/plain": [
       "Matrix([\n",
       "[   b1 + 1.0*I*b2 + r*exp(0.5*I*pi*sin(wt))],\n",
       "[r + (-b1 - 1.0*I*b2)*exp(0.5*I*pi*sin(wt))]])"
      ]
     },
     "execution_count": 63,
     "metadata": {},
     "output_type": "execute_result"
    }
   ],
   "source": [
    "Out"
   ]
  },
  {
   "cell_type": "markdown",
   "metadata": {},
   "source": [
    "Real and Imag parts of two polarization components reflected back from the sample"
   ]
  },
  {
   "cell_type": "code",
   "execution_count": 31,
   "metadata": {},
   "outputs": [],
   "source": [
    "r0, i0 = Out[0].as_real_imag()\n",
    "r1, i1 = Out[1].as_real_imag()"
   ]
  },
  {
   "cell_type": "markdown",
   "metadata": {},
   "source": [
    "The reflection signal received by photodetector"
   ]
  },
  {
   "cell_type": "code",
   "execution_count": 39,
   "metadata": {},
   "outputs": [
    {
     "data": {
      "text/latex": [
       "$\\displaystyle \\operatorname{Poly}{\\left( 2.0 r^{2} + 4.0 rb_{2}\\sin{\\left(0.5 \\pi \\sin{\\left(wt \\right)} \\right)} + 2.0 b_{1}^{2} + 2.0 b_{2}^{2}, r, b_{1}, b_{2}, \\sin{\\left(0.5 \\pi \\sin{\\left(wt \\right)} \\right)}, domain=\\mathbb{R} \\right)}$"
      ],
      "text/plain": [
       "Poly(2.0*r**2 + 4.0*r*b2*(sin(0.5*pi*sin(wt))) + 2.0*b1**2 + 2.0*b2**2, r, b1, b2, sin(0.5*pi*sin(wt)), domain='RR')"
      ]
     },
     "execution_count": 39,
     "metadata": {},
     "output_type": "execute_result"
    }
   ],
   "source": [
    "simplify(poly(r0**2 + i0**2 + r1**2 + i1 ** 2))"
   ]
  },
  {
   "cell_type": "markdown",
   "metadata": {},
   "source": [
    "$sin(0.5\\pi sin(2\\pi ft)$ is in first harmonic, $cos(0.5\\pi sin(2\\pi ft)$ is in second harmonic. In above calculation results, the reflection part in DC is $2r^2 + 2b_1^2 + 2b_1^2\\approx 2r^2$. The refelction in first harmonic is $4rb_2$"
   ]
  },
  {
   "cell_type": "code",
   "execution_count": 45,
   "metadata": {},
   "outputs": [],
   "source": [
    "Es2 = simplify(poly(r0**2 + i0**2))"
   ]
  },
  {
   "cell_type": "code",
   "execution_count": 46,
   "metadata": {},
   "outputs": [
    {
     "data": {
      "text/latex": [
       "$\\displaystyle \\operatorname{Poly}{\\left( 1.0 r^{2} + 2.0 rb_{1}\\cos{\\left(0.5 \\pi \\sin{\\left(wt \\right)} \\right)} + 2.0 rb_{2}\\sin{\\left(0.5 \\pi \\sin{\\left(wt \\right)} \\right)} + 1.0 b_{1}^{2} + 1.0 b_{2}^{2}, r, b_{1}, b_{2}, \\cos{\\left(0.5 \\pi \\sin{\\left(wt \\right)} \\right)}, \\sin{\\left(0.5 \\pi \\sin{\\left(wt \\right)} \\right)}, domain=\\mathbb{R} \\right)}$"
      ],
      "text/plain": [
       "Poly(1.0*r**2 + 2.0*r*b1*(cos(0.5*pi*sin(wt))) + 2.0*r*b2*(sin(0.5*pi*sin(wt))) + 1.0*b1**2 + 1.0*b2**2, r, b1, b2, cos(0.5*pi*sin(wt)), sin(0.5*pi*sin(wt)), domain='RR')"
      ]
     },
     "execution_count": 46,
     "metadata": {},
     "output_type": "execute_result"
    }
   ],
   "source": [
    "Es2"
   ]
  },
  {
   "cell_type": "code",
   "execution_count": 47,
   "metadata": {},
   "outputs": [],
   "source": [
    "Ep2 = simplify(poly(r1**2 + i1**2))"
   ]
  },
  {
   "cell_type": "code",
   "execution_count": 48,
   "metadata": {},
   "outputs": [
    {
     "data": {
      "text/latex": [
       "$\\displaystyle \\operatorname{Poly}{\\left( 1.0 r^{2} - 2.0 rb_{1}\\cos{\\left(0.5 \\pi \\sin{\\left(wt \\right)} \\right)} + 2.0 rb_{2}\\sin{\\left(0.5 \\pi \\sin{\\left(wt \\right)} \\right)} + 1.0 b_{1}^{2} + 1.0 b_{2}^{2}, r, b_{1}, b_{2}, \\cos{\\left(0.5 \\pi \\sin{\\left(wt \\right)} \\right)}, \\sin{\\left(0.5 \\pi \\sin{\\left(wt \\right)} \\right)}, domain=\\mathbb{R} \\right)}$"
      ],
      "text/plain": [
       "Poly(1.0*r**2 - 2.0*r*b1*(cos(0.5*pi*sin(wt))) + 2.0*r*b2*(sin(0.5*pi*sin(wt))) + 1.0*b1**2 + 1.0*b2**2, r, b1, b2, cos(0.5*pi*sin(wt)), sin(0.5*pi*sin(wt)), domain='RR')"
      ]
     },
     "execution_count": 48,
     "metadata": {},
     "output_type": "execute_result"
    }
   ],
   "source": [
    "Ep2"
   ]
  },
  {
   "cell_type": "markdown",
   "metadata": {},
   "source": [
    "Use circular polarizer to calibrate the Kerr ellipticity"
   ]
  },
  {
   "cell_type": "code",
   "execution_count": 59,
   "metadata": {},
   "outputs": [],
   "source": [
    "CP = Matrix([[1,1j],[-1j,1]])"
   ]
  },
  {
   "cell_type": "code",
   "execution_count": 60,
   "metadata": {},
   "outputs": [],
   "source": [
    "cr0, ci0 = (CP*Out)[0].as_real_imag()\n",
    "cr1, ci1 = (CP*Out)[1].as_real_imag()"
   ]
  },
  {
   "cell_type": "code",
   "execution_count": 61,
   "metadata": {},
   "outputs": [],
   "source": [
    "EC2 = simplify(poly(cr0**2 + ci0**2 + cr1**2 + ci1**2))"
   ]
  },
  {
   "cell_type": "code",
   "execution_count": 62,
   "metadata": {},
   "outputs": [
    {
     "data": {
      "text/latex": [
       "$\\displaystyle \\operatorname{Poly}{\\left( 4.0 r^{2}\\sin{\\left(0.5 \\pi \\sin{\\left(wt \\right)} \\right)} + 4.0 r^{2} + 8.0 rb_{2}\\sin{\\left(0.5 \\pi \\sin{\\left(wt \\right)} \\right)} + 8.0 rb_{2} + 4.0 b_{1}^{2}\\sin{\\left(0.5 \\pi \\sin{\\left(wt \\right)} \\right)} + 4.0 b_{1}^{2} + 4.0 b_{2}^{2}\\sin{\\left(0.5 \\pi \\sin{\\left(wt \\right)} \\right)} + 4.0 b_{2}^{2}, r, b_{1}, b_{2}, \\sin{\\left(0.5 \\pi \\sin{\\left(wt \\right)} \\right)}, domain=\\mathbb{R} \\right)}$"
      ],
      "text/plain": [
       "Poly(4.0*r**2*(sin(0.5*pi*sin(wt))) + 4.0*r**2 + 8.0*r*b2*(sin(0.5*pi*sin(wt))) + 8.0*r*b2 + 4.0*b1**2*(sin(0.5*pi*sin(wt))) + 4.0*b1**2 + 4.0*b2**2*(sin(0.5*pi*sin(wt))) + 4.0*b2**2, r, b1, b2, sin(0.5*pi*sin(wt)), domain='RR')"
      ]
     },
     "execution_count": 62,
     "metadata": {},
     "output_type": "execute_result"
    }
   ],
   "source": [
    "EC2"
   ]
  },
  {
   "cell_type": "code",
   "execution_count": null,
   "metadata": {},
   "outputs": [],
   "source": []
  }
 ],
 "metadata": {
  "kernelspec": {
   "display_name": "Python 3",
   "language": "python",
   "name": "python3"
  },
  "language_info": {
   "codemirror_mode": {
    "name": "ipython",
    "version": 3
   },
   "file_extension": ".py",
   "mimetype": "text/x-python",
   "name": "python",
   "nbconvert_exporter": "python",
   "pygments_lexer": "ipython3",
   "version": "3.7.3"
  }
 },
 "nbformat": 4,
 "nbformat_minor": 2
}
