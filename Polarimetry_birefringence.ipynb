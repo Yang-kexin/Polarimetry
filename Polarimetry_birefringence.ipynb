{
 "cells": [
  {
   "cell_type": "code",
   "execution_count": 1,
   "metadata": {},
   "outputs": [],
   "source": [
    "from sympy import *\n",
    "import numpy as np"
   ]
  },
  {
   "cell_type": "code",
   "execution_count": 10,
   "metadata": {},
   "outputs": [],
   "source": [
    "r = Symbol('r', real = True)\n",
    "a1 = Symbol('a1', real = True) # linear dichroism\n",
    "a2 = Symbol('a2', real = True) # linear birefringence\n",
    "a = a1+1j*a2\n",
    "wt = Symbol('wt', real = True)\n",
    "t = Symbol('theta', real = True)"
   ]
  },
  {
   "cell_type": "markdown",
   "metadata": {},
   "source": [
    "# Sample is at zero degree"
   ]
  },
  {
   "cell_type": "code",
   "execution_count": 3,
   "metadata": {},
   "outputs": [],
   "source": [
    "Mat = Matrix([[r+a, 0], [0, r-a]])"
   ]
  },
  {
   "cell_type": "code",
   "execution_count": 4,
   "metadata": {},
   "outputs": [],
   "source": [
    "QWP = 1/sqrt(2)*Matrix([[1,-1j],[-1j,1]])"
   ]
  },
  {
   "cell_type": "code",
   "execution_count": 5,
   "metadata": {},
   "outputs": [],
   "source": [
    "In = 1/sqrt(2)*QWP*Matrix([[exp(1j*pi/2*sin(wt))], [1]]) #light after 45 polarizer, PEM and QWP(45d)"
   ]
  },
  {
   "cell_type": "code",
   "execution_count": 6,
   "metadata": {},
   "outputs": [],
   "source": [
    "Out = Mat*In"
   ]
  },
  {
   "cell_type": "code",
   "execution_count": 8,
   "metadata": {},
   "outputs": [],
   "source": [
    "r0, i0 = Out[0].as_real_imag()\n",
    "r1, i1 = Out[1].as_real_imag()"
   ]
  },
  {
   "cell_type": "code",
   "execution_count": 9,
   "metadata": {},
   "outputs": [
    {
     "data": {
      "text/latex": [
       "$\\displaystyle \\operatorname{Poly}{\\left( 1.0 r^{2} - 1.0 ra_{1}\\sin{\\left(1.0 a_{2} + 0.5 \\pi \\sin{\\left(wt \\right)} \\right)} + 1.0 ra_{1}\\sin{\\left(1.0 a_{2} - 0.5 \\pi \\sin{\\left(wt \\right)} \\right)} + 0.5 a_{1}^{2}\\cos^{2}{\\left(1.0 a_{2} + 0.5 \\pi \\sin{\\left(wt \\right)} \\right)} + 0.5 a_{1}^{2}\\sin^{2}{\\left(1.0 a_{2} + 0.5 \\pi \\sin{\\left(wt \\right)} \\right)} + 0.5 a_{1}^{2}, r, a_{1}, \\cos{\\left(1.0 a_{2} + 0.5 \\pi \\sin{\\left(wt \\right)} \\right)}, \\sin{\\left(1.0 a_{2} + 0.5 \\pi \\sin{\\left(wt \\right)} \\right)}, \\sin{\\left(1.0 a_{2} - 0.5 \\pi \\sin{\\left(wt \\right)} \\right)}, domain=\\mathbb{R} \\right)}$"
      ],
      "text/plain": [
       "Poly(1.0*r**2 - 1.0*r*a1*(sin(1.0*a2 + 0.5*pi*sin(wt))) + 1.0*r*a1*(sin(1.0*a2 - 0.5*pi*sin(wt))) + 0.5*a1**2*(cos(1.0*a2 + 0.5*pi*sin(wt)))**2 + 0.5*a1**2*(sin(1.0*a2 + 0.5*pi*sin(wt)))**2 + 0.5*a1**2, r, a1, cos(1.0*a2 + 0.5*pi*sin(wt)), sin(1.0*a2 + 0.5*pi*sin(wt)), sin(1.0*a2 - 0.5*pi*sin(wt)), domain='RR')"
      ]
     },
     "execution_count": 9,
     "metadata": {},
     "output_type": "execute_result"
    }
   ],
   "source": [
    "simplify(poly(r0**2 + i0**2 + r1**2 + i1 ** 2)) # The part detector measured"
   ]
  },
  {
   "cell_type": "markdown",
   "metadata": {},
   "source": [
    "The real part of birefringence can be measured at 1st harmonic"
   ]
  },
  {
   "cell_type": "code",
   "execution_count": 17,
   "metadata": {},
   "outputs": [],
   "source": [
    "Out2 = QWP*Out"
   ]
  },
  {
   "cell_type": "code",
   "execution_count": 18,
   "metadata": {},
   "outputs": [],
   "source": [
    "R0, I0 = Out2[0].as_real_imag()\n",
    "R1, I1 = Out2[1].as_real_imag()"
   ]
  },
  {
   "cell_type": "code",
   "execution_count": 19,
   "metadata": {},
   "outputs": [
    {
     "data": {
      "text/latex": [
       "$\\displaystyle \\operatorname{Poly}{\\left( 0.5 r^{2} - 1.0 ra_{1}\\sin{\\left(0.5 \\pi \\sin{\\left(wt \\right)} \\right)} + 1.0 ra_{2}\\cos{\\left(0.5 \\pi \\sin{\\left(wt \\right)} \\right)} + 0.5 a_{1}^{2} + 0.5 a_{2}^{2}, r, a_{1}, a_{2}, \\cos{\\left(0.5 \\pi \\sin{\\left(wt \\right)} \\right)}, \\sin{\\left(0.5 \\pi \\sin{\\left(wt \\right)} \\right)}, domain=\\mathbb{R} \\right)}$"
      ],
      "text/plain": [
       "Poly(0.5*r**2 - 1.0*r*a1*(sin(0.5*pi*sin(wt))) + 1.0*r*a2*(cos(0.5*pi*sin(wt))) + 0.5*a1**2 + 0.5*a2**2, r, a1, a2, cos(0.5*pi*sin(wt)), sin(0.5*pi*sin(wt)), domain='RR')"
      ]
     },
     "execution_count": 19,
     "metadata": {},
     "output_type": "execute_result"
    }
   ],
   "source": [
    "simplify(poly(R1**2 + I1**2)) # The part detector measured with a linear polarizer"
   ]
  },
  {
   "cell_type": "markdown",
   "metadata": {},
   "source": [
    "# Sample is rotated by $\\theta$ "
   ]
  },
  {
   "cell_type": "code",
   "execution_count": 12,
   "metadata": {},
   "outputs": [],
   "source": [
    "# rotation matrix\n",
    "R = Matrix([[cos(t), sin(t)], [-sin(t), cos(t)]]) # R(theta)\n",
    "Rminus = Matrix([[cos(t), -sin(t)], [sin(t), cos(t)]]) # R(-theta)"
   ]
  },
  {
   "cell_type": "code",
   "execution_count": 13,
   "metadata": {},
   "outputs": [],
   "source": [
    "Mat_rot = Rminus*Mat*R"
   ]
  },
  {
   "cell_type": "code",
   "execution_count": 14,
   "metadata": {},
   "outputs": [
    {
     "data": {
      "text/latex": [
       "$\\displaystyle \\left[\\begin{matrix}\\left(- a_{1} - 1.0 i a_{2} + r\\right) \\sin^{2}{\\left(\\theta \\right)} + \\left(a_{1} + 1.0 i a_{2} + r\\right) \\cos^{2}{\\left(\\theta \\right)} & - \\left(- a_{1} - 1.0 i a_{2} + r\\right) \\sin{\\left(\\theta \\right)} \\cos{\\left(\\theta \\right)} + \\left(a_{1} + 1.0 i a_{2} + r\\right) \\sin{\\left(\\theta \\right)} \\cos{\\left(\\theta \\right)}\\\\- \\left(- a_{1} - 1.0 i a_{2} + r\\right) \\sin{\\left(\\theta \\right)} \\cos{\\left(\\theta \\right)} + \\left(a_{1} + 1.0 i a_{2} + r\\right) \\sin{\\left(\\theta \\right)} \\cos{\\left(\\theta \\right)} & \\left(- a_{1} - 1.0 i a_{2} + r\\right) \\cos^{2}{\\left(\\theta \\right)} + \\left(a_{1} + 1.0 i a_{2} + r\\right) \\sin^{2}{\\left(\\theta \\right)}\\end{matrix}\\right]$"
      ],
      "text/plain": [
       "Matrix([\n",
       "[                 (-a1 - 1.0*I*a2 + r)*sin(theta)**2 + (a1 + 1.0*I*a2 + r)*cos(theta)**2, -(-a1 - 1.0*I*a2 + r)*sin(theta)*cos(theta) + (a1 + 1.0*I*a2 + r)*sin(theta)*cos(theta)],\n",
       "[-(-a1 - 1.0*I*a2 + r)*sin(theta)*cos(theta) + (a1 + 1.0*I*a2 + r)*sin(theta)*cos(theta),                  (-a1 - 1.0*I*a2 + r)*cos(theta)**2 + (a1 + 1.0*I*a2 + r)*sin(theta)**2]])"
      ]
     },
     "execution_count": 14,
     "metadata": {},
     "output_type": "execute_result"
    }
   ],
   "source": [
    "Mat_rot"
   ]
  },
  {
   "cell_type": "markdown",
   "metadata": {},
   "source": [
    "### Result without circular polarizer"
   ]
  },
  {
   "cell_type": "code",
   "execution_count": 15,
   "metadata": {},
   "outputs": [],
   "source": [
    "Our_rot_nocp = Mat_rot*In"
   ]
  },
  {
   "cell_type": "code",
   "execution_count": 18,
   "metadata": {},
   "outputs": [],
   "source": [
    "r_rot_nocp0, i_rot_nocp0 = Our_rot_nocp[0].as_real_imag()\n",
    "r_rot_nocp1, i_rot_nocp1 = Our_rot_nocp[1].as_real_imag() "
   ]
  },
  {
   "cell_type": "code",
   "execution_count": 19,
   "metadata": {},
   "outputs": [
    {
     "data": {
      "text/latex": [
       "$\\displaystyle \\operatorname{Poly}{\\left( 1.0 r^{2} + 4.0 ra_{1}\\cos{\\left(0.5 \\pi \\sin{\\left(wt \\right)} \\right)}\\cos^{3}{\\left(\\theta \\right)}\\sin{\\left(\\theta \\right)} + 4.0 ra_{1}\\cos{\\left(0.5 \\pi \\sin{\\left(wt \\right)} \\right)}\\cos{\\left(\\theta \\right)}\\sin^{3}{\\left(\\theta \\right)} + 4.0 ra_{1}\\sin{\\left(0.5 \\pi \\sin{\\left(wt \\right)} \\right)}\\sin^{2}{\\left(\\theta \\right)} - 2.0 ra_{1}\\sin{\\left(0.5 \\pi \\sin{\\left(wt \\right)} \\right)} + 1.0 a_{1}^{2} + 1.0 a_{2}^{2}, r, a_{1}, a_{2}, \\cos{\\left(0.5 \\pi \\sin{\\left(wt \\right)} \\right)}, \\cos{\\left(\\theta \\right)}, \\sin{\\left(0.5 \\pi \\sin{\\left(wt \\right)} \\right)}, \\sin{\\left(\\theta \\right)}, domain=\\mathbb{R} \\right)}$"
      ],
      "text/plain": [
       "Poly(1.0*r**2 + 4.0*r*a1*(cos(0.5*pi*sin(wt)))*(cos(theta))**3*(sin(theta)) + 4.0*r*a1*(cos(0.5*pi*sin(wt)))*(cos(theta))*(sin(theta))**3 + 4.0*r*a1*(sin(0.5*pi*sin(wt)))*(sin(theta))**2 - 2.0*r*a1*(sin(0.5*pi*sin(wt))) + 1.0*a1**2 + 1.0*a2**2, r, a1, a2, cos(0.5*pi*sin(wt)), cos(theta), sin(0.5*pi*sin(wt)), sin(theta), domain='RR')"
      ]
     },
     "execution_count": 19,
     "metadata": {},
     "output_type": "execute_result"
    }
   ],
   "source": [
    "simplify(poly(r_rot_nocp0**2 + i_rot_nocp0**2 + r_rot_nocp1**2 + i_rot_nocp1 ** 2)) # The part detector measured"
   ]
  },
  {
   "cell_type": "markdown",
   "metadata": {},
   "source": [
    "The DC part is $r^2$, second harmonic is $2ra_1sin(2\\theta)$, first harmonic is $-2ra_1cos(2\\theta)$"
   ]
  },
  {
   "cell_type": "markdown",
   "metadata": {},
   "source": [
    "### Result with circular polarizer"
   ]
  },
  {
   "cell_type": "code",
   "execution_count": 20,
   "metadata": {},
   "outputs": [],
   "source": [
    "Our_rot_cp = QWP*Mat_rot*In"
   ]
  },
  {
   "cell_type": "code",
   "execution_count": 21,
   "metadata": {},
   "outputs": [],
   "source": [
    "r_rot_cp0, i_rot_cp0 = Our_rot_cp[0].as_real_imag()\n",
    "r_rot_cp1, i_rot_cp1 = Our_rot_cp[1].as_real_imag() "
   ]
  },
  {
   "cell_type": "markdown",
   "metadata": {},
   "source": [
    "polarizer is at 0 deg"
   ]
  },
  {
   "cell_type": "code",
   "execution_count": 22,
   "metadata": {
    "scrolled": true
   },
   "outputs": [
    {
     "data": {
      "text/latex": [
       "$\\displaystyle \\operatorname{Poly}{\\left( 0.5 r^{2} + 2.0 ra_{1}\\cos{\\left(0.5 \\pi \\sin{\\left(wt \\right)} \\right)}\\cos^{3}{\\left(\\theta \\right)}\\sin{\\left(\\theta \\right)} + 2.0 ra_{1}\\cos{\\left(0.5 \\pi \\sin{\\left(wt \\right)} \\right)}\\cos{\\left(\\theta \\right)}\\sin^{3}{\\left(\\theta \\right)} + 2.0 ra_{1}\\sin{\\left(0.5 \\pi \\sin{\\left(wt \\right)} \\right)}\\sin^{2}{\\left(\\theta \\right)} - 1.0 ra_{1}\\sin{\\left(0.5 \\pi \\sin{\\left(wt \\right)} \\right)} + 2.0 ra_{2}\\cos{\\left(0.5 \\pi \\sin{\\left(wt \\right)} \\right)}\\sin^{2}{\\left(\\theta \\right)} - 1.0 ra_{2}\\cos{\\left(0.5 \\pi \\sin{\\left(wt \\right)} \\right)} - 2.0 ra_{2}\\cos^{3}{\\left(\\theta \\right)}\\sin{\\left(0.5 \\pi \\sin{\\left(wt \\right)} \\right)}\\sin{\\left(\\theta \\right)} - 2.0 ra_{2}\\cos{\\left(\\theta \\right)}\\sin{\\left(0.5 \\pi \\sin{\\left(wt \\right)} \\right)}\\sin^{3}{\\left(\\theta \\right)} + 0.5 a_{1}^{2} + 0.5 a_{2}^{2}, r, a_{1}, a_{2}, \\cos{\\left(0.5 \\pi \\sin{\\left(wt \\right)} \\right)}, \\cos{\\left(\\theta \\right)}, \\sin{\\left(0.5 \\pi \\sin{\\left(wt \\right)} \\right)}, \\sin{\\left(\\theta \\right)}, domain=\\mathbb{R} \\right)}$"
      ],
      "text/plain": [
       "Poly(0.5*r**2 + 2.0*r*a1*(cos(0.5*pi*sin(wt)))*(cos(theta))**3*(sin(theta)) + 2.0*r*a1*(cos(0.5*pi*sin(wt)))*(cos(theta))*(sin(theta))**3 + 2.0*r*a1*(sin(0.5*pi*sin(wt)))*(sin(theta))**2 - 1.0*r*a1*(sin(0.5*pi*sin(wt))) + 2.0*r*a2*(cos(0.5*pi*sin(wt)))*(sin(theta))**2 - 1.0*r*a2*(cos(0.5*pi*sin(wt))) - 2.0*r*a2*(cos(theta))**3*(sin(0.5*pi*sin(wt)))*(sin(theta)) - 2.0*r*a2*(cos(theta))*(sin(0.5*pi*sin(wt)))*(sin(theta))**3 + 0.5*a1**2 + 0.5*a2**2, r, a1, a2, cos(0.5*pi*sin(wt)), cos(theta), sin(0.5*pi*sin(wt)), sin(theta), domain='RR')"
      ]
     },
     "execution_count": 22,
     "metadata": {},
     "output_type": "execute_result"
    }
   ],
   "source": [
    "simplify(poly(r_rot_cp0**2 + i_rot_cp0**2))"
   ]
  },
  {
   "cell_type": "markdown",
   "metadata": {},
   "source": [
    "polarizer is at 90 deg"
   ]
  },
  {
   "cell_type": "code",
   "execution_count": 23,
   "metadata": {},
   "outputs": [
    {
     "data": {
      "text/latex": [
       "$\\displaystyle \\operatorname{Poly}{\\left( 0.5 r^{2} + 2.0 ra_{1}\\cos{\\left(0.5 \\pi \\sin{\\left(wt \\right)} \\right)}\\cos^{3}{\\left(\\theta \\right)}\\sin{\\left(\\theta \\right)} + 2.0 ra_{1}\\cos{\\left(0.5 \\pi \\sin{\\left(wt \\right)} \\right)}\\cos{\\left(\\theta \\right)}\\sin^{3}{\\left(\\theta \\right)} + 2.0 ra_{1}\\sin{\\left(0.5 \\pi \\sin{\\left(wt \\right)} \\right)}\\sin^{2}{\\left(\\theta \\right)} - 1.0 ra_{1}\\sin{\\left(0.5 \\pi \\sin{\\left(wt \\right)} \\right)} - 2.0 ra_{2}\\cos{\\left(0.5 \\pi \\sin{\\left(wt \\right)} \\right)}\\sin^{2}{\\left(\\theta \\right)} + 1.0 ra_{2}\\cos{\\left(0.5 \\pi \\sin{\\left(wt \\right)} \\right)} + 2.0 ra_{2}\\cos^{3}{\\left(\\theta \\right)}\\sin{\\left(0.5 \\pi \\sin{\\left(wt \\right)} \\right)}\\sin{\\left(\\theta \\right)} + 2.0 ra_{2}\\cos{\\left(\\theta \\right)}\\sin{\\left(0.5 \\pi \\sin{\\left(wt \\right)} \\right)}\\sin^{3}{\\left(\\theta \\right)} + 0.5 a_{1}^{2} + 0.5 a_{2}^{2}, r, a_{1}, a_{2}, \\cos{\\left(0.5 \\pi \\sin{\\left(wt \\right)} \\right)}, \\cos{\\left(\\theta \\right)}, \\sin{\\left(0.5 \\pi \\sin{\\left(wt \\right)} \\right)}, \\sin{\\left(\\theta \\right)}, domain=\\mathbb{R} \\right)}$"
      ],
      "text/plain": [
       "Poly(0.5*r**2 + 2.0*r*a1*(cos(0.5*pi*sin(wt)))*(cos(theta))**3*(sin(theta)) + 2.0*r*a1*(cos(0.5*pi*sin(wt)))*(cos(theta))*(sin(theta))**3 + 2.0*r*a1*(sin(0.5*pi*sin(wt)))*(sin(theta))**2 - 1.0*r*a1*(sin(0.5*pi*sin(wt))) - 2.0*r*a2*(cos(0.5*pi*sin(wt)))*(sin(theta))**2 + 1.0*r*a2*(cos(0.5*pi*sin(wt))) + 2.0*r*a2*(cos(theta))**3*(sin(0.5*pi*sin(wt)))*(sin(theta)) + 2.0*r*a2*(cos(theta))*(sin(0.5*pi*sin(wt)))*(sin(theta))**3 + 0.5*a1**2 + 0.5*a2**2, r, a1, a2, cos(0.5*pi*sin(wt)), cos(theta), sin(0.5*pi*sin(wt)), sin(theta), domain='RR')"
      ]
     },
     "execution_count": 23,
     "metadata": {},
     "output_type": "execute_result"
    }
   ],
   "source": [
    "simplify(poly(r_rot_cp1**2 + i_rot_cp1**2))"
   ]
  },
  {
   "cell_type": "code",
   "execution_count": null,
   "metadata": {},
   "outputs": [],
   "source": []
  }
 ],
 "metadata": {
  "kernelspec": {
   "display_name": "Python 3",
   "language": "python",
   "name": "python3"
  },
  "language_info": {
   "codemirror_mode": {
    "name": "ipython",
    "version": 3
   },
   "file_extension": ".py",
   "mimetype": "text/x-python",
   "name": "python",
   "nbconvert_exporter": "python",
   "pygments_lexer": "ipython3",
   "version": "3.7.3"
  }
 },
 "nbformat": 4,
 "nbformat_minor": 2
}
